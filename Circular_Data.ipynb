{
  "nbformat": 4,
  "nbformat_minor": 0,
  "metadata": {
    "colab": {
      "name": "Circular_Data",
      "provenance": []
    },
    "kernelspec": {
      "name": "python3",
      "display_name": "Python 3"
    },
    "accelerator": "GPU"
  },
  "cells": [
    {
      "cell_type": "code",
      "metadata": {
        "id": "1xGZzhFgr4j7",
        "colab_type": "code",
        "colab": {}
      },
      "source": [
        "import torch\n",
        "import numpy as np\n",
        "import torchvision\n",
        "from matplotlib import pyplot as plt\n",
        "import torch.nn as nn\n"
      ],
      "execution_count": 0,
      "outputs": []
    },
    {
      "cell_type": "code",
      "metadata": {
        "id": "2g4sMEdr79-_",
        "colab_type": "code",
        "colab": {}
      },
      "source": [
        "from functools import reduce"
      ],
      "execution_count": 0,
      "outputs": []
    },
    {
      "cell_type": "code",
      "metadata": {
        "id": "fgaQh7Pwr_Ra",
        "colab_type": "code",
        "colab": {}
      },
      "source": [
        "class simple_FCN(nn.Module):\n",
        "\n",
        "    def __init__(self):\n",
        "        \n",
        "        super(simple_FCN, self).__init__()\n",
        "        self.features=nn.Sequential(  # 60x60\n",
        "            nn.Linear(2,3),  # 58x58\n",
        "            nn.ReLU(True),\n",
        "            nn.Linear(3,1)\n",
        "\n",
        "        )  \n",
        "        self.optimizer = torch.optim.SGD(self.parameters(),lr = 0.0005)\n",
        "        def init_weights(m):\n",
        "            if type(m) == nn.Linear:\n",
        "                torch.nn.init.xavier_uniform(m.weight)\n",
        "                m.bias.data.fill_(0.01)\n",
        "\n",
        "        self.features.apply(init_weights)\n",
        "\n",
        "\n",
        "    def forward(self,x):\n",
        "        y = (self.features(x))\n",
        "        out = torch.cat((y,-y),1)\n",
        "        return(torch.cat((y,-y),1))\n",
        "    \n",
        "    def train(self,x,labels):\n",
        "#        for i in range(15):\n",
        "            i = 0\n",
        "            data=torch.tensor(x,device = 'cuda:0').float()\n",
        "            pred = self.forward(data)\n",
        "            labels=torch.tensor(labels,device = 'cuda:0')\n",
        "            criterion= nn.CrossEntropyLoss()\n",
        "            loss = criterion(pred,labels.long())\n",
        "            loss.backward()\n",
        "            \n",
        "            self.optimizer.step()\n",
        "            return(loss)\n",
        "            #loss.backward()\n",
        "            \n",
        "            \n",
        "            "
      ],
      "execution_count": 0,
      "outputs": []
    },
    {
      "cell_type": "code",
      "metadata": {
        "id": "cj_cRcjPsFpt",
        "colab_type": "code",
        "outputId": "d300bd77-287f-415a-e116-7c92dad1ef6a",
        "colab": {
          "base_uri": "https://localhost:8080/",
          "height": 179
        }
      },
      "source": [
        "Model = simple_FCN()\n",
        "Model.to('cuda:0')"
      ],
      "execution_count": 0,
      "outputs": [
        {
          "output_type": "stream",
          "text": [
            "/usr/local/lib/python3.6/dist-packages/ipykernel_launcher.py:15: UserWarning: nn.init.xavier_uniform is now deprecated in favor of nn.init.xavier_uniform_.\n",
            "  from ipykernel import kernelapp as app\n"
          ],
          "name": "stderr"
        },
        {
          "output_type": "execute_result",
          "data": {
            "text/plain": [
              "simple_FCN(\n",
              "  (features): Sequential(\n",
              "    (0): Linear(in_features=2, out_features=3, bias=True)\n",
              "    (1): ReLU(inplace=True)\n",
              "    (2): Linear(in_features=3, out_features=1, bias=True)\n",
              "  )\n",
              ")"
            ]
          },
          "metadata": {
            "tags": []
          },
          "execution_count": 4
        }
      ]
    },
    {
      "cell_type": "code",
      "metadata": {
        "id": "wRg9YLuouFpC",
        "colab_type": "code",
        "colab": {}
      },
      "source": [
        "import itertools\n",
        "lst = list(itertools.product([1, -1], repeat=13))\n",
        "lst = torch.tensor(lst,device='cuda:0')/2.0"
      ],
      "execution_count": 0,
      "outputs": []
    },
    {
      "cell_type": "code",
      "metadata": {
        "id": "GXtPhBpNuJls",
        "colab_type": "code",
        "colab": {}
      },
      "source": [
        "a1_min = 0\n",
        "a1_max = 1\n",
        "a2_min = 2\n",
        "a2_max = 3\n"
      ],
      "execution_count": 0,
      "outputs": []
    },
    {
      "cell_type": "code",
      "metadata": {
        "id": "JYnFVqjWuLM8",
        "colab_type": "code",
        "colab": {}
      },
      "source": [
        "A=np.random.uniform(a1_min,a1_max,10000)\n",
        "B=np.random.uniform(a2_min,a2_max,10000)\n",
        "\n"
      ],
      "execution_count": 0,
      "outputs": []
    },
    {
      "cell_type": "code",
      "metadata": {
        "id": "KZFVkws-5O7W",
        "colab_type": "code",
        "colab": {}
      },
      "source": [
        "t = np.arange(0,2*np.pi,0.001)\n",
        "\n",
        "sin = np.sin(t)\n",
        "cos = np.cos(t)\n",
        "\n",
        "index_A = np.random.randint(0,t.shape[0],500)\n",
        "index_B = np.random.randint(0,t.shape[0],500)\n",
        "\n",
        "data_A = np.append(A[index_A]*sin[index_A][np.newaxis],A[index_A]*cos[index_A][np.newaxis],axis = 0)\n",
        "data_B = np.append(B[index_B]*sin[index_B][np.newaxis],B[index_B]*cos[index_B][np.newaxis],axis = 0)\n",
        "total_data = np.append(data_A,data_B,axis = 1)"
      ],
      "execution_count": 0,
      "outputs": []
    },
    {
      "cell_type": "code",
      "metadata": {
        "id": "UTeeXeKt7t_c",
        "colab_type": "code",
        "outputId": "7656be4b-58c7-4c14-8f12-88a200af7072",
        "colab": {
          "base_uri": "https://localhost:8080/",
          "height": 283
        }
      },
      "source": [
        "plt.scatter(data_A[0],data_A[1])\n",
        "plt.scatter(data_B[0],data_B[1])"
      ],
      "execution_count": 0,
      "outputs": [
        {
          "output_type": "execute_result",
          "data": {
            "text/plain": [
              "<matplotlib.collections.PathCollection at 0x7fb53b4226d8>"
            ]
          },
          "metadata": {
            "tags": []
          },
          "execution_count": 12
        },
        {
          "output_type": "display_data",
          "data": {
            "image/png": "[encoded data removed]",
            "text/plain": [
              "<Figure size 432x288 with 1 Axes>"
            ]
          },
          "metadata": {
            "tags": []
          }
        }
      ]
    },
    {
      "cell_type": "code",
      "metadata": {
        "id": "T8M3RceymKJK",
        "colab_type": "code",
        "colab": {}
      },
      "source": [
        "loss_matrix = np.zeros((lst.shape[0],200))"
      ],
      "execution_count": 0,
      "outputs": []
    },
    {
      "cell_type": "code",
      "metadata": {
        "id": "lwIaoJZ0udvO",
        "colab_type": "code",
        "colab": {}
      },
      "source": [
        "for i in range(lst.shape[0]):\n",
        "        #initialize\n",
        "        state_dict = Model.state_dict()\n",
        "        state_dict['features.0.weight'] = (lst[i][0:6]).reshape(3,2)\n",
        "        state_dict['features.0.bias'] = (lst[i][6:9]).reshape(3)\n",
        "        state_dict['features.2.weight'] = (lst[i][9:12]).reshape(1,3)\n",
        "        state_dict['features.2.bias'] = (lst[i][12]).reshape(1)\n",
        "        Model.load_state_dict(state_dict)\n",
        "        temp_loss = []\n",
        "        for k in range(200):\n",
        "            labels = np.zeros(1000)\n",
        "            labels[500:] = 1\n",
        "            l = Model.train(total_data.T,labels)\n",
        "            temp_loss.append(float(l.cpu().detach()))\n",
        "        loss_matrix[i] += np.array(temp_loss)\n",
        "        \n",
        "np.save('0.0005',loss_matrix)"
      ],
      "execution_count": 0,
      "outputs": []
    },
    {
      "cell_type": "code",
      "metadata": {
        "id": "sI5uYU_kRuJG",
        "colab_type": "code",
        "outputId": "a4146e21-17f4-462e-8a29-1b70969e09d9",
        "colab": {
          "base_uri": "https://localhost:8080/",
          "height": 53
        }
      },
      "source": [
        "lst[0]"
      ],
      "execution_count": 0,
      "outputs": [
        {
          "output_type": "execute_result",
          "data": {
            "text/plain": [
              "tensor([0.5000, 0.5000, 0.5000, 0.5000, 0.5000, 0.5000, 0.5000, 0.5000, 0.5000,\n",
              "        0.5000, 0.5000, 0.5000, 0.5000], device='cuda:0')"
            ]
          },
          "metadata": {
            "tags": []
          },
          "execution_count": 15
        }
      ]
    },
    {
      "cell_type": "code",
      "metadata": {
        "id": "i2SXkpdF8K1P",
        "colab_type": "code",
        "outputId": "a4d41ed4-8e6e-494d-d879-86b7c9c901f3",
        "colab": {
          "base_uri": "https://localhost:8080/",
          "height": 298
        }
      },
      "source": [
        "loss_matrix=np.load('./out1')"
      ],
      "execution_count": 0,
      "outputs": [
        {
          "output_type": "error",
          "ename": "FileNotFoundError",
          "evalue": "ignored",
          "traceback": [
            "\u001b[0;31m---------------------------------------------------------------------------\u001b[0m",
            "\u001b[0;31mFileNotFoundError\u001b[0m                         Traceback (most recent call last)",
            "\u001b[0;32m<ipython-input-16-ba7b70687f01>\u001b[0m in \u001b[0;36m<module>\u001b[0;34m()\u001b[0m\n\u001b[0;32m----> 1\u001b[0;31m \u001b[0mloss_matrix\u001b[0m\u001b[0;34m=\u001b[0m\u001b[0mnp\u001b[0m\u001b[0;34m.\u001b[0m\u001b[0mload\u001b[0m\u001b[0;34m(\u001b[0m\u001b[0;34m'./out1'\u001b[0m\u001b[0;34m)\u001b[0m\u001b[0;34m\u001b[0m\u001b[0;34m\u001b[0m\u001b[0m\n\u001b[0m",
            "\u001b[0;32m/usr/local/lib/python3.6/dist-packages/numpy/lib/npyio.py\u001b[0m in \u001b[0;36mload\u001b[0;34m(file, mmap_mode, allow_pickle, fix_imports, encoding)\u001b[0m\n\u001b[1;32m    426\u001b[0m         \u001b[0mown_fid\u001b[0m \u001b[0;34m=\u001b[0m \u001b[0;32mFalse\u001b[0m\u001b[0;34m\u001b[0m\u001b[0;34m\u001b[0m\u001b[0m\n\u001b[1;32m    427\u001b[0m     \u001b[0;32melse\u001b[0m\u001b[0;34m:\u001b[0m\u001b[0;34m\u001b[0m\u001b[0;34m\u001b[0m\u001b[0m\n\u001b[0;32m--> 428\u001b[0;31m         \u001b[0mfid\u001b[0m \u001b[0;34m=\u001b[0m \u001b[0mopen\u001b[0m\u001b[0;34m(\u001b[0m\u001b[0mos_fspath\u001b[0m\u001b[0;34m(\u001b[0m\u001b[0mfile\u001b[0m\u001b[0;34m)\u001b[0m\u001b[0;34m,\u001b[0m \u001b[0;34m\"rb\"\u001b[0m\u001b[0;34m)\u001b[0m\u001b[0;34m\u001b[0m\u001b[0;34m\u001b[0m\u001b[0m\n\u001b[0m\u001b[1;32m    429\u001b[0m         \u001b[0mown_fid\u001b[0m \u001b[0;34m=\u001b[0m \u001b[0;32mTrue\u001b[0m\u001b[0;34m\u001b[0m\u001b[0;34m\u001b[0m\u001b[0m\n\u001b[1;32m    430\u001b[0m \u001b[0;34m\u001b[0m\u001b[0m\n",
            "\u001b[0;31mFileNotFoundError\u001b[0m: [Errno 2] No such file or directory: './out1'"
          ]
        }
      ]
    },
    {
      "cell_type": "code",
      "metadata": {
        "id": "6MPWSQK6GXlB",
        "colab_type": "code",
        "colab": {}
      },
      "source": [
        "loss_matrix"
      ],
      "execution_count": 0,
      "outputs": []
    },
    {
      "cell_type": "code",
      "metadata": {
        "id": "UhGbG_GSGhvl",
        "colab_type": "code",
        "colab": {}
      },
      "source": [
        "b1=np.where(loss_matrix[:,5]>0.1)[0]"
      ],
      "execution_count": 0,
      "outputs": []
    },
    {
      "cell_type": "code",
      "metadata": {
        "id": "gFRM25NA85Fq",
        "colab_type": "code",
        "colab": {}
      },
      "source": [
        "b2=np.where(loss_matrix[:,10]>0.1)[0]"
      ],
      "execution_count": 0,
      "outputs": []
    },
    {
      "cell_type": "code",
      "metadata": {
        "id": "S1ffXxApYsky",
        "colab_type": "code",
        "colab": {}
      },
      "source": [
        "b3=np.where(loss_matrix[:,20]>0.1)[0]"
      ],
      "execution_count": 0,
      "outputs": []
    },
    {
      "cell_type": "code",
      "metadata": {
        "id": "82U5OaYal8VA",
        "colab_type": "code",
        "colab": {}
      },
      "source": [
        "b4=np.where(loss_matrix[:,50]>0.1)[0]"
      ],
      "execution_count": 0,
      "outputs": []
    },
    {
      "cell_type": "code",
      "metadata": {
        "id": "28yNG9e1mFC5",
        "colab_type": "code",
        "colab": {}
      },
      "source": [
        "b5=np.where(loss_matrix[:,150]>0.1)[0]"
      ],
      "execution_count": 0,
      "outputs": []
    },
    {
      "cell_type": "code",
      "metadata": {
        "id": "9DhKF7GZv5c5",
        "colab_type": "code",
        "colab": {}
      },
      "source": [
        "b6=np.where(loss_matrix[:,199]>0.1)[0]"
      ],
      "execution_count": 0,
      "outputs": []
    },
    {
      "cell_type": "code",
      "metadata": {
        "colab_type": "code",
        "id": "GxNrZCakxTEj",
        "colab": {}
      },
      "source": [
        "reduce(np.intersect1d, ([b1],[b2],[b3],[b4],[b5],[b6]))"
      ],
      "execution_count": 0,
      "outputs": []
    },
    {
      "cell_type": "code",
      "metadata": {
        "id": "Tp8e8SnnwIDt",
        "colab_type": "code",
        "outputId": "147ac2a0-8c17-4c98-a49d-3c8784627450",
        "colab": {
          "base_uri": "https://localhost:8080/",
          "height": 283
        }
      },
      "source": [
        "plt.plot(loss_matrix[16])"
      ],
      "execution_count": 0,
      "outputs": [
        {
          "output_type": "execute_result",
          "data": {
            "text/plain": [
              "[<matplotlib.lines.Line2D at 0x7f5c37035da0>]"
            ]
          },
          "metadata": {
            "tags": []
          },
          "execution_count": 120
        },
        {
          "output_type": "display_data",
          "data": {
            "image/png": "[encoded data removed]",
            "text/plain": [
              "<Figure size 432x288 with 1 Axes>"
            ]
          },
          "metadata": {
            "tags": []
          }
        }
      ]
    },
    {
      "cell_type": "code",
      "metadata": {
        "id": "xHZt3sQRAQ5f",
        "colab_type": "code",
        "outputId": "249d65da-4b98-44ee-d695-de6b607685b1",
        "colab": {
          "base_uri": "https://localhost:8080/",
          "height": 265
        }
      },
      "source": [
        "for i in range(0,94):\n",
        "  plt.plot(loss_matrix[i])"
      ],
      "execution_count": 0,
      "outputs": [
        {
          "output_type": "display_data",
          "data": {
            "image/png": "[encoded data removed]",
            "text/plain": [
              "<Figure size 432x288 with 1 Axes>"
            ]
          },
          "metadata": {
            "tags": []
          }
        }
      ]
    },
    {
      "cell_type": "code",
      "metadata": {
        "id": "lyZ9Dt1BAkbU",
        "colab_type": "code",
        "outputId": "c6520d1c-fb99-4dd3-ca85-bf3101d1013d",
        "colab": {
          "base_uri": "https://localhost:8080/",
          "height": 35
        }
      },
      "source": [
        "b3.shape"
      ],
      "execution_count": 0,
      "outputs": [
        {
          "output_type": "execute_result",
          "data": {
            "text/plain": [
              "(331,)"
            ]
          },
          "metadata": {
            "tags": []
          },
          "execution_count": 78
        }
      ]
    },
    {
      "cell_type": "code",
      "metadata": {
        "id": "Buh1tg0hBSbC",
        "colab_type": "code",
        "outputId": "45877e9e-5e3d-4a7f-9a88-d742c5235c43",
        "colab": {
          "base_uri": "https://localhost:8080/",
          "height": 35
        }
      },
      "source": [
        "b4.shape"
      ],
      "execution_count": 0,
      "outputs": [
        {
          "output_type": "execute_result",
          "data": {
            "text/plain": [
              "(371,)"
            ]
          },
          "metadata": {
            "tags": []
          },
          "execution_count": 82
        }
      ]
    },
    {
      "cell_type": "code",
      "metadata": {
        "id": "88Ezb7y7DYuD",
        "colab_type": "code",
        "outputId": "11580fde-fa23-4e4f-a24e-2357a328acff",
        "colab": {
          "base_uri": "https://localhost:8080/",
          "height": 35
        }
      },
      "source": [
        "b5.shape"
      ],
      "execution_count": 0,
      "outputs": [
        {
          "output_type": "execute_result",
          "data": {
            "text/plain": [
              "(689,)"
            ]
          },
          "metadata": {
            "tags": []
          },
          "execution_count": 81
        }
      ]
    },
    {
      "cell_type": "code",
      "metadata": {
        "id": "WvUAJKzHFA2O",
        "colab_type": "code",
        "outputId": "4763bc6b-235b-4d06-d425-4e1129412b5c",
        "colab": {
          "base_uri": "https://localhost:8080/",
          "height": 35
        }
      },
      "source": [
        "b6.shape"
      ],
      "execution_count": 0,
      "outputs": [
        {
          "output_type": "execute_result",
          "data": {
            "text/plain": [
              "(777,)"
            ]
          },
          "metadata": {
            "tags": []
          },
          "execution_count": 83
        }
      ]
    }
  ]
}