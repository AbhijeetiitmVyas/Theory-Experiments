{
 "cells": [
  {
   "cell_type": "code",
   "execution_count": 1,
   "metadata": {},
   "outputs": [],
   "source": [
    "import torch\n",
    "import torch.nn as nn\n",
    "import torch.nn.functional as F\n",
    "import numpy as np\n",
    "import torch.optim as optim\n",
    "import matplotlib.pyplot as plt"
   ]
  },
  {
   "cell_type": "code",
   "execution_count": 2,
   "metadata": {
    "scrolled": true
   },
   "outputs": [
    {
     "name": "stdout",
     "output_type": "stream",
     "text": [
      "generator(\n",
      "  (fc1): Linear(in_features=1, out_features=4, bias=True)\n",
      ")\n"
     ]
    }
   ],
   "source": [
    "class generator(nn.Module):\n",
    "\n",
    "    def __init__(self):\n",
    "        super(generator, self).__init__()\n",
    "        self.fc1 = nn.Linear(1, 4)  \n",
    "\n",
    "    def forward(self, x):\n",
    "        x = self.fc1(x)\n",
    "\n",
    "        return torch.sigmoid(x)\n",
    "\n",
    "\n",
    "net = generator()\n",
    "print(net)\n",
    "\n",
    "class discriminator(nn.Module):\n",
    "\n",
    "    def __init__(self):\n",
    "        super(discriminator, self).__init__()\n",
    "        self.fc1 = nn.Linear(4, 1)  \n",
    "\n",
    "    def forward(self, x):\n",
    "        x = self.fc1(x)\n",
    "        return torch.sigmoid(x)\n",
    "\n",
    "def weights_init(m):\n",
    "    classname = m.__class__.__name__\n",
    "    if classname.find('Conv') != -1:\n",
    "        nn.init.normal_(m.weight.data, 0.0, 0.02)\n",
    "    elif classname.find('BatchNorm') != -1:\n",
    "        nn.init.normal_(m.weight.data, 1.0, 0.02)\n",
    "        nn.init.constant_(m.bias.data, 0)\n"
   ]
  },
  {
   "cell_type": "code",
   "execution_count": 12,
   "metadata": {},
   "outputs": [
    {
     "data": {
      "text/plain": [
       "discriminator(\n",
       "  (fc1): Linear(in_features=4, out_features=1, bias=True)\n",
       ")"
      ]
     },
     "execution_count": 12,
     "metadata": {},
     "output_type": "execute_result"
    }
   ],
   "source": [
    "gen = generator().to(device = 'cuda:0')\n",
    "disc = discriminator().to(device = 'cuda:0')\n",
    "gen.apply(weights_init)\n",
    "disc.apply(weights_init)\n"
   ]
  },
  {
   "cell_type": "code",
   "execution_count": 13,
   "metadata": {
    "scrolled": false
   },
   "outputs": [],
   "source": [
    "lr = 0.01\n",
    "beta1 = 0.5\n",
    "optimizerD = optim.Adam(disc.parameters(), lr=lr, betas=(beta1, 0.999))\n",
    "optimizerG = optim.Adam(gen.parameters(), lr=2*lr, betas=(beta1, 0.999))"
   ]
  },
  {
   "cell_type": "code",
   "execution_count": 14,
   "metadata": {},
   "outputs": [],
   "source": [
    "loss_d1 = []\n",
    "loss_d2 = []\n",
    "loss_g = []"
   ]
  },
  {
   "cell_type": "code",
   "execution_count": 15,
   "metadata": {
    "scrolled": true
   },
   "outputs": [],
   "source": [
    "N = 2000\n",
    "criterion = nn.BCELoss()\n",
    "b_size = 256\n",
    "loss = []\n",
    "for i in range(N):\n",
    "    \n",
    "    #True Image\n",
    "    \n",
    "    # Disc : log()\n",
    "    gen.zero_grad()\n",
    "    disc.zero_grad()\n",
    "    im = torch.tensor(np.random.uniform(0,1,(b_size,4)),device = 'cuda:0')\n",
    "    im[:,0] = 0\n",
    "    im[:,2] = 0\n",
    "    y = disc(im.float())\n",
    "    loss_D_1 = criterion(y, torch.ones((b_size,1),device = 'cuda:0'))\n",
    "    loss_d1.append(loss_D_1)\n",
    "\n",
    "    #Noise\n",
    "    z = np.random.randn(b_size,1)\n",
    "    z = torch.tensor(z,device = 'cuda:0').float() \n",
    "    x = gen(z)  \n",
    "    y = disc(x.detach())\n",
    "\n",
    "    # Disc : 1-log()\n",
    "    loss_D_2 = criterion(y, torch.zeros((b_size,1),device = 'cuda:0'))\n",
    "    loss_D = loss_D_1+loss_D_2\n",
    "    loss_D.backward()\n",
    "    optimizerD.step()\n",
    "    loss_d2.append(loss_D_2)\n",
    "    # Gen : log()\n",
    "    z = np.random.randn(b_size,1)\n",
    "    z = torch.tensor(z,device = 'cuda:0').float() \n",
    "    x = gen(z)     \n",
    "    y = disc(x)       \n",
    "    loss_G = criterion(y, torch.ones((b_size,1),device = 'cuda:0'))\n",
    "    loss_G.backward()\n",
    "    optimizerG.step()\n",
    "    loss_g.append(loss_G)\n"
   ]
  },
  {
   "cell_type": "code",
   "execution_count": 16,
   "metadata": {
    "scrolled": false
   },
   "outputs": [
    {
     "data": {
      "text/plain": [
       "[<matplotlib.lines.Line2D at 0x7f92c2ac9f10>]"
      ]
     },
     "execution_count": 16,
     "metadata": {},
     "output_type": "execute_result"
    },
    {
     "data": {
      "image/png": "[encoded data removed]",
      "text/plain": [
       "<Figure size 432x288 with 1 Axes>"
      ]
     },
     "metadata": {
      "needs_background": "light"
     },
     "output_type": "display_data"
    }
   ],
   "source": [
    "plt.plot(loss_d1)\n",
    "plt.plot(loss_d2)\n",
    "plt.plot(loss_g)\n"
   ]
  },
  {
   "cell_type": "code",
   "execution_count": 17,
   "metadata": {},
   "outputs": [
    {
     "data": {
      "text/plain": [
       "tensor([[7.1235e-04, 6.2651e-01, 6.0732e-04, 6.7684e-01],\n",
       "        [7.1161e-04, 2.6114e-01, 6.0683e-04, 5.0138e-02],\n",
       "        [7.1158e-04, 2.4607e-01, 6.0681e-04, 4.1896e-02],\n",
       "        ...,\n",
       "        [7.1248e-04, 6.8686e-01, 6.0741e-04, 7.9790e-01],\n",
       "        [7.1178e-04, 3.3416e-01, 6.0694e-04, 1.0786e-01],\n",
       "        [7.1189e-04, 3.8897e-01, 6.0702e-04, 1.7498e-01]], device='cuda:0',\n",
       "       grad_fn=<SigmoidBackward>)"
      ]
     },
     "execution_count": 17,
     "metadata": {},
     "output_type": "execute_result"
    }
   ],
   "source": [
    "gen(z)"
   ]
  },
  {
   "cell_type": "code",
   "execution_count": 31,
   "metadata": {},
   "outputs": [],
   "source": [
    "z1 = np.random.randn(1000,1)\n",
    "z = torch.tensor(z1,device = 'cuda:0').float() \n",
    "x = gen(z)  "
   ]
  },
  {
   "cell_type": "code",
   "execution_count": 32,
   "metadata": {},
   "outputs": [
    {
     "data": {
      "text/plain": [
       "(array([103.,  82., 112., 109., 100., 104.,  98.,  86.,  92., 114.]),\n",
       " array([6.66387712e-04, 1.00587229e-01, 2.00508070e-01, 3.00428911e-01,\n",
       "        4.00349752e-01, 5.00270593e-01, 6.00191435e-01, 7.00112276e-01,\n",
       "        8.00033117e-01, 8.99953958e-01, 9.99874799e-01]),\n",
       " <a list of 10 Patch objects>)"
      ]
     },
     "execution_count": 32,
     "metadata": {},
     "output_type": "execute_result"
    },
    {
     "data": {
      "image/png": "[encoded data removed]",
      "text/plain": [
       "<Figure size 432x288 with 1 Axes>"
      ]
     },
     "metadata": {
      "needs_background": "light"
     },
     "output_type": "display_data"
    }
   ],
   "source": [
    "plt.hist(z1)\n",
    "plt.hist(x[:,1].detach().cpu().numpy())\n",
    "plt.hist(np.random.uniform(0,1,(1000,4))[:,1])"
   ]
  }
 ],
 "metadata": {
  "kernelspec": {
   "display_name": "Python 3",
   "language": "python",
   "name": "python3"
  },
  "language_info": {
   "codemirror_mode": {
    "name": "ipython",
    "version": 3
   },
   "file_extension": ".py",
   "mimetype": "text/x-python",
   "name": "python",
   "nbconvert_exporter": "python",
   "pygments_lexer": "ipython3",
   "version": "3.7.4"
  }
 },
 "nbformat": 4,
 "nbformat_minor": 2
}
